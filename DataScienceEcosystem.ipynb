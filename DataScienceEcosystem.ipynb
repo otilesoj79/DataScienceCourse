{
 "cells": [
  {
   "cell_type": "markdown",
   "id": "60bfd3f7-c463-4d74-8d45-4f63551e8dbc",
   "metadata": {},
   "source": [
    "***Ejercicio 2: Crear celda de markdown con título del cuarderno*** "
   ]
  },
  {
   "cell_type": "markdown",
   "id": "95f4ef5f-3c53-41fa-8891-95fd0425450f",
   "metadata": {},
   "source": [
    "# Data Science Tools and Ecosystem"
   ]
  },
  {
   "cell_type": "markdown",
   "id": "c4da69d4-2fd4-4193-bd47-cc6eff47963e",
   "metadata": {},
   "source": [
    "***Ejercicio 3: Crear una celda de Markdown para una introducción***"
   ]
  },
  {
   "cell_type": "markdown",
   "id": "2e5367ff-eec9-4be9-af43-9556f4bd31b4",
   "metadata": {},
   "source": [
    "In this notebook, Data Science Tools and Ecosystem are summarized."
   ]
  },
  {
   "cell_type": "markdown",
   "id": "2d742039-7cd5-4d54-9109-5daba1f6116a",
   "metadata": {},
   "source": [
    "***Ejercicio 10 - Insertar una celda de Markdown para enumerar los objetivos***\n",
    "- Crear y renombrar un cuaderno en Jupyter Notebook.\n",
    "- Enumerar los diferentes lenguajes de programación en Ciencia de datos.\n",
    "- Listar las bibliotecas más usadas en ciencia de datos.\n",
    "- Realizar cálculos y mostrarlos en pantalla\n"
   ]
  },
  {
   "cell_type": "markdown",
   "id": "e2850a92-4b01-46fe-a1af-bc38f94aa7e5",
   "metadata": {},
   "source": [
    "***Ejercicio 4: Crear una celda de Markdown para enumerar los lenguajes de la ciencia de datos.***"
   ]
  },
  {
   "cell_type": "markdown",
   "id": "cbdc63d8-246c-4570-bbed-d6df4b37052d",
   "metadata": {},
   "source": [
    "Some of the popular languages that Data Scientists use are:\n",
    "1. Python.\n",
    "2. R.\n",
    "3. SQL\n"
   ]
  },
  {
   "cell_type": "markdown",
   "id": "9a5fd8c7-2a20-4e02-a781-5593347a0d67",
   "metadata": {},
   "source": [
    "***Ejercicio 5: Crear una celda de Markdown para enumerar las bibliotecas de ciencia de datos***"
   ]
  },
  {
   "cell_type": "markdown",
   "id": "8c5026c8-efeb-46ac-a653-7868313649b1",
   "metadata": {},
   "source": [
    "Some of the commonly used libraries used by Data Scientists include:\n",
    "1. matplotlib.\n",
    "2. pandas.\n",
    "3. numpy."
   ]
  },
  {
   "cell_type": "markdown",
   "id": "41fbfe5b-5b41-4094-ae48-9f6717d574da",
   "metadata": {},
   "source": [
    "***Ejercicio 6: Cree una celda de Markdown con una tabla de herramientas pe ciencia de datos.***"
   ]
  },
  {
   "cell_type": "markdown",
   "id": "8c8deecd-afd0-454c-adef-723c62a5d62a",
   "metadata": {},
   "source": [
    "|Data Science Tools|\n",
    "|------------------|\n",
    "|Jupyter Notebook|\n",
    "|Apache Spark|\n",
    "|TensorFlow|"
   ]
  },
  {
   "cell_type": "markdown",
   "id": "d8490c07-6641-4f31-af79-59df7892dc67",
   "metadata": {},
   "source": [
    "***Ejercicio 7: Cree una celda de Markdown que presente ejemplos de expresiones aritméticas***"
   ]
  },
  {
   "cell_type": "markdown",
   "id": "6cd6a350-5c76-4c83-9e52-28528a0b9d18",
   "metadata": {},
   "source": [
    "### Below are a few examples of evaluating arithmetic expressions in Python"
   ]
  },
  {
   "cell_type": "markdown",
   "id": "0d87ce4c-dbdb-4aaa-a1eb-c078ba4f0df3",
   "metadata": {},
   "source": [
    "***Ejercicio 8: Crear una celda de código para multiplicar y sumar números.***"
   ]
  },
  {
   "cell_type": "markdown",
   "id": "7c101f39-7de7-47ac-bb44-f7f98a14d839",
   "metadata": {},
   "source": [
    " This a simple arithmetic expression to mutiply then add integers"
   ]
  },
  {
   "cell_type": "code",
   "execution_count": 37,
   "id": "2ce92631-a3c4-432e-b16e-e32a577f2fdb",
   "metadata": {},
   "outputs": [
    {
     "data": {
      "text/plain": [
       "17"
      ]
     },
     "execution_count": 37,
     "metadata": {},
     "output_type": "execute_result"
    }
   ],
   "source": [
    "(3*4)+5"
   ]
  },
  {
   "cell_type": "markdown",
   "id": "2fe55715-4292-4901-863a-977c138babf8",
   "metadata": {},
   "source": [
    "***Ejercicio 9: Crear una celda de código para convertir minutos a horas.***"
   ]
  },
  {
   "cell_type": "markdown",
   "id": "f93911c3-1593-42d2-9ce5-8b246a47bfdd",
   "metadata": {},
   "source": [
    "This will convert 200 minutes to hours by diving by 60"
   ]
  },
  {
   "cell_type": "code",
   "execution_count": 45,
   "id": "48bdcf8a-9a25-41af-808f-f6e973935216",
   "metadata": {},
   "outputs": [
    {
     "name": "stdout",
     "output_type": "stream",
     "text": [
      "200 minutos son: 3.33 horas.\n"
     ]
    }
   ],
   "source": [
    "print(f\"200 minutos son: {200/60:.2f} horas.\")"
   ]
  },
  {
   "cell_type": "markdown",
   "id": "2de38118-5561-4712-80a2-f55b69490b96",
   "metadata": {},
   "source": [
    "## Author\n",
    "Jose Carlos Zamorano Medero"
   ]
  },
  {
   "cell_type": "code",
   "execution_count": null,
   "id": "bbe698c2-f0e5-4866-bc61-5bc84561838f",
   "metadata": {},
   "outputs": [],
   "source": []
  }
 ],
 "metadata": {
  "kernelspec": {
   "display_name": "Python 3 (ipykernel)",
   "language": "python",
   "name": "python3"
  },
  "language_info": {
   "codemirror_mode": {
    "name": "ipython",
    "version": 3
   },
   "file_extension": ".py",
   "mimetype": "text/x-python",
   "name": "python",
   "nbconvert_exporter": "python",
   "pygments_lexer": "ipython3",
   "version": "3.12.3"
  }
 },
 "nbformat": 4,
 "nbformat_minor": 5
}
